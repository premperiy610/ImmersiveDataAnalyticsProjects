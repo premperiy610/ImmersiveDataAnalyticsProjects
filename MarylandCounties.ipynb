{
 "cells": [
  {
   "cell_type": "code",
   "execution_count": 8,
   "metadata": {},
   "outputs": [],
   "source": [
    "import requests\n",
    "from bs4 import BeautifulSoup\n",
    "import numpy as np\n",
    "import pandas as pd"
   ]
  },
  {
   "cell_type": "code",
   "execution_count": 9,
   "metadata": {},
   "outputs": [
    {
     "name": "stdout",
     "output_type": "stream",
     "text": [
      "\n",
      "<!DOCTYPE html>\n",
      "<html class=\"client-nojs\" lang=\"en\" dir=\"ltr\">\n",
      "<head>\n",
      "<meta charset=\"UTF-8\"/>\n",
      "<title>List of counties in Maryland - Wikipedia</title>\n",
      "<script>document.documentElement.className=\"client-js\";RLCONF={\"wgBreakFrames\":!1,\"wgSeparatorTransformTable\":[\"\",\"\"],\"wgDigitTransformTable\":[\"\",\"\"]\n"
     ]
    }
   ],
   "source": [
    "URL = \"https://en.wikipedia.org/wiki/List_of_counties_in_Maryland#List_of_counties\"\n",
    "\n",
    "response = requests.get(URL)\n",
    "response.status_code\n",
    "\n",
    "print(response.text[:300])\n",
    "\n",
    "raw_HTML = BeautifulSoup(response.text, 'html.parser')"
   ]
  },
  {
   "cell_type": "code",
   "execution_count": 10,
   "metadata": {},
   "outputs": [
    {
     "data": {
      "text/plain": [
       "[<tr><th class=\"summary\" colspan=\"2\" style=\"text-align:center;font-size:125%;font-weight:bold;font-size: 130%; background-color: #F0F0F0; vertical-align: middle\">Independent city and counties of Maryland</th></tr>,\n",
       " <tr><td colspan=\"2\" style=\"text-align:center\"><a class=\"image\" href=\"/wiki/File:Map_of_maryland_counties.jpg\"><img alt=\"Map of maryland counties.jpg\" data-file-height=\"436\" data-file-width=\"814\" decoding=\"async\" height=\"161\" src=\"//upload.wikimedia.org/wikipedia/commons/thumb/7/7d/Map_of_maryland_counties.jpg/300px-Map_of_maryland_counties.jpg\" srcset=\"//upload.wikimedia.org/wikipedia/commons/thumb/7/7d/Map_of_maryland_counties.jpg/450px-Map_of_maryland_counties.jpg 1.5x, //upload.wikimedia.org/wikipedia/commons/thumb/7/7d/Map_of_maryland_counties.jpg/600px-Map_of_maryland_counties.jpg 2x\" width=\"300\"/></a></td></tr>,\n",
       " <tr><th scope=\"row\" style=\"white-space:nowrap;padding-right:0.65em;\">Location</th><td style=\"line-height:1.3em;\"><a href=\"/wiki/Maryland\" title=\"Maryland\">State of Maryland</a></td></tr>,\n",
       " <tr><th scope=\"row\" style=\"white-space:nowrap;padding-right:0.65em;\">Number</th><td style=\"line-height:1.3em;\">23 counties and 1 Independent city</td></tr>]"
      ]
     },
     "execution_count": 10,
     "metadata": {},
     "output_type": "execute_result"
    }
   ],
   "source": [
    "# search for the <table> tag on the page\n",
    "raw_HTML.find('table')\n",
    "# can also search the same table using its class type\n",
    "raw_HTML.find('table', class_= 'wikitable sortable')\n",
    "\n",
    "tabledata = raw_HTML.find('table')\n",
    "\n",
    "# display the first 2 <tr> tags and their contents\n",
    "tabledata.find_all('tr')[:4]\n",
    "\n",
    "# display the first 2 <tr> tags and their contents\n",
    "tabledata.find_all('tr')[:4]"
   ]
  },
  {
   "cell_type": "code",
   "execution_count": 11,
   "metadata": {},
   "outputs": [
    {
     "ename": "TypeError",
     "evalue": "unhashable type: 'slice'",
     "output_type": "error",
     "traceback": [
      "\u001b[1;31m---------------------------------------------------------------------------\u001b[0m",
      "\u001b[1;31mTypeError\u001b[0m                                 Traceback (most recent call last)",
      "\u001b[1;32m<ipython-input-11-679a1677dbb9>\u001b[0m in \u001b[0;36m<module>\u001b[1;34m\u001b[0m\n\u001b[0;32m      1\u001b[0m \u001b[1;31m# display first 2 <tr> tags and their contents\u001b[0m\u001b[1;33m\u001b[0m\u001b[1;33m\u001b[0m\u001b[1;33m\u001b[0m\u001b[0m\n\u001b[1;32m----> 2\u001b[1;33m \u001b[0mtabledata\u001b[0m\u001b[1;33m[\u001b[0m\u001b[1;33m:\u001b[0m\u001b[1;36m2\u001b[0m\u001b[1;33m]\u001b[0m\u001b[1;33m\u001b[0m\u001b[1;33m\u001b[0m\u001b[0m\n\u001b[0m\u001b[0;32m      3\u001b[0m \u001b[1;33m\u001b[0m\u001b[0m\n\u001b[0;32m      4\u001b[0m \u001b[0mtabledata\u001b[0m\u001b[1;33m[\u001b[0m\u001b[1;36m0\u001b[0m\u001b[1;33m]\u001b[0m\u001b[1;33m\u001b[0m\u001b[1;33m\u001b[0m\u001b[0m\n\u001b[0;32m      5\u001b[0m \u001b[1;33m\u001b[0m\u001b[0m\n",
      "\u001b[1;32m~\\anaconda3\\lib\\site-packages\\bs4\\element.py\u001b[0m in \u001b[0;36m__getitem__\u001b[1;34m(self, key)\u001b[0m\n\u001b[0;32m   1319\u001b[0m         \"\"\"tag[key] returns the value of the 'key' attribute for the Tag,\n\u001b[0;32m   1320\u001b[0m         and throws an exception if it's not there.\"\"\"\n\u001b[1;32m-> 1321\u001b[1;33m         \u001b[1;32mreturn\u001b[0m \u001b[0mself\u001b[0m\u001b[1;33m.\u001b[0m\u001b[0mattrs\u001b[0m\u001b[1;33m[\u001b[0m\u001b[0mkey\u001b[0m\u001b[1;33m]\u001b[0m\u001b[1;33m\u001b[0m\u001b[1;33m\u001b[0m\u001b[0m\n\u001b[0m\u001b[0;32m   1322\u001b[0m \u001b[1;33m\u001b[0m\u001b[0m\n\u001b[0;32m   1323\u001b[0m     \u001b[1;32mdef\u001b[0m \u001b[0m__iter__\u001b[0m\u001b[1;33m(\u001b[0m\u001b[0mself\u001b[0m\u001b[1;33m)\u001b[0m\u001b[1;33m:\u001b[0m\u001b[1;33m\u001b[0m\u001b[1;33m\u001b[0m\u001b[0m\n",
      "\u001b[1;31mTypeError\u001b[0m: unhashable type: 'slice'"
     ]
    }
   ],
   "source": [
    "# display first 2 <tr> tags and their contents\n",
    "tabledata[:2]\n",
    "\n",
    "tabledata[0]\n",
    "\n",
    "tabledata[0].find_all('td')\n",
    "first_row = tabledata[0].find_all('td')\n",
    "\n",
    "for data in first_row:\n",
    "    print(data.text)"
   ]
  },
  {
   "cell_type": "code",
   "execution_count": null,
   "metadata": {},
   "outputs": [],
   "source": []
  }
 ],
 "metadata": {
  "kernelspec": {
   "display_name": "Python 3",
   "language": "python",
   "name": "python3"
  },
  "language_info": {
   "codemirror_mode": {
    "name": "ipython",
    "version": 3
   },
   "file_extension": ".py",
   "mimetype": "text/x-python",
   "name": "python",
   "nbconvert_exporter": "python",
   "pygments_lexer": "ipython3",
   "version": "3.7.6"
  }
 },
 "nbformat": 4,
 "nbformat_minor": 4
}
